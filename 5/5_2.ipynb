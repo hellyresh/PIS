{
 "cells": [
  {
   "cell_type": "markdown",
   "metadata": {},
   "source": [
    "__Решение задачи об укладке рюкзака с помощью собственного алгоритма__\n",
    "\n",
    "Варианты заданий:\n",
    "* 1.1 случайная генерация\n",
    "* 2.1 рулетка\n",
    "* 3.1 с тремя точками\n",
    "* 4.2 случайное изменение 3х битов у 5% особей\n",
    "* 5.3 замена своих родителей"
   ]
  },
  {
   "cell_type": "code",
   "execution_count": 745,
   "metadata": {},
   "outputs": [],
   "source": [
    "import json\n",
    "import random as rnd\n",
    "\n",
    "data_path = '26.txt'\n",
    "result_path = 'res5_2.txt'"
   ]
  },
  {
   "cell_type": "markdown",
   "metadata": {},
   "source": [
    "__Чтение данных из файла__"
   ]
  },
  {
   "cell_type": "code",
   "execution_count": 746,
   "metadata": {},
   "outputs": [],
   "source": [
    "def load_data():\n",
    "    f = open(data_path)        \n",
    "    first_line = f.readline().split(' ')\n",
    "    bag_data = {'max_weight': 0, 'max_volume': 0, 'items': []}\n",
    "    bag_data['max_weight'] = int(first_line[0])\n",
    "    bag_data['max_volume'] = float(first_line[1])\n",
    "    \n",
    "    for line in f:\n",
    "        values = [x for x in line.split(' ')]\n",
    "        bag_data['items'].append({'weight': int(values[0]), 'volume': float(values[1]), 'price': int(values[2])})\n",
    "        \n",
    "    return bag_data"
   ]
  },
  {
   "cell_type": "markdown",
   "metadata": {},
   "source": [
    "__Функция приспособления__"
   ]
  },
  {
   "cell_type": "code",
   "execution_count": 747,
   "metadata": {},
   "outputs": [],
   "source": [
    "def fitness(individual, items):\n",
    "    weight, volume, price = 0, 0, 0\n",
    "    for (selected, item) in zip(individual, items):\n",
    "        if selected:\n",
    "            weight += item['weight']\n",
    "            volume += item['volume']\n",
    "            price += item['price']\n",
    "\n",
    "    if weight > max_weight or volume > max_volume:\n",
    "        price = 0\n",
    "\n",
    "    return price"
   ]
  },
  {
   "cell_type": "markdown",
   "metadata": {},
   "source": [
    "__Поиск лучшей особи в популяции__"
   ]
  },
  {
   "cell_type": "code",
   "execution_count": 748,
   "metadata": {},
   "outputs": [],
   "source": [
    "def get_best_individual(population, items):\n",
    "    candidates = []\n",
    "\n",
    "    for ind in population:\n",
    "        candidates.append((fitness(ind, items), ind))\n",
    "\n",
    "    best_ind = candidates[0]\n",
    "    for candidate in candidates:\n",
    "        best_ind = candidate if candidate[0] > best_ind[0] else best_ind\n",
    "\n",
    "    return best_ind"
   ]
  },
  {
   "cell_type": "markdown",
   "metadata": {},
   "source": [
    "__Создание популяции__"
   ]
  },
  {
   "cell_type": "code",
   "execution_count": 771,
   "metadata": {},
   "outputs": [],
   "source": [
    "def create_individual(items):\n",
    "    individual = [0 for x in range(len(items))]\n",
    "    \n",
    "    total_weight = 0\n",
    "    total_volume = 0\n",
    "    \n",
    "    fill_order = [i for i in range(len(items))]\n",
    "    rnd.shuffle(fill_order)\n",
    "    \n",
    "    for i in fill_order:\n",
    "        item = items[i]\n",
    "        ind = rnd.randint(0, 1)\n",
    "        individual[i] = ind\n",
    "        #если добавление этой вещи в рюкзак делает особь нежизнеспособной - не добавляем\n",
    "        if total_weight + item['weight'] > max_weight or total_volume + item['volume'] > max_volume:\n",
    "            individual[i] = 0\n",
    "            continue\n",
    "        #если добавили вещь - считаем новый вес и объем    \n",
    "        else:\n",
    "            if ind == 1:\n",
    "                total_weight += item['weight']\n",
    "                total_volume += item['volume']\n",
    "    \n",
    "    return individual\n",
    "\n",
    "def create_population(items, count):\n",
    "    return [create_individual(items) for i in range(count)]"
   ]
  },
  {
   "cell_type": "markdown",
   "metadata": {},
   "source": [
    "__Отбор особей на основе приспособленности__"
   ]
  },
  {
   "cell_type": "code",
   "execution_count": 750,
   "metadata": {},
   "outputs": [],
   "source": [
    "def choose_to_crossover(population, items):\n",
    "    choosens = []\n",
    "    candidates = []\n",
    "\n",
    "    for i in range(len(population)):\n",
    "        candidates.append(fitness(population[i], items))\n",
    "    \n",
    "    max_fitness = 0\n",
    "    min_fitness = candidates[0]\n",
    "    #best_cand = 0\n",
    "    #worst_cand = 0\n",
    "    \n",
    "    #определяем максимальную и минимальную ценность в популяции\n",
    "    for j in range(len(candidates)):\n",
    "        if candidates[j] > max_fitness:\n",
    "            max_fitness = candidates[j]\n",
    "            #best_cand = j\n",
    "        if candidates[j] < min_fitness and candidates[j] != 0:\n",
    "            min_fitness = candidates[j]\n",
    "            #worst_cand = j\n",
    "\n",
    "    #print(\"best\", best_cand, 'max min', max_fitness, min_fitness)\n",
    "    \n",
    "    #нормализуем значения ценности в отрезок [0, 1] и отбираем родителей\n",
    "    diff = max_fitness - min_fitness        \n",
    "    for q in range(len(candidates)):\n",
    "        candidates[q] = (candidates[q] - min_fitness) / diff\n",
    "        if rnd.random() < candidates[q]:\n",
    "            choosens.append(population[q])\n",
    "    return choosens"
   ]
  },
  {
   "cell_type": "markdown",
   "metadata": {},
   "source": [
    "__Скрещивание с тремя точками__"
   ]
  },
  {
   "cell_type": "code",
   "execution_count": 751,
   "metadata": {},
   "outputs": [],
   "source": [
    "def crossover_parents(parent_1, parent_2, items):\n",
    "    dots = []\n",
    "    for i in range(0, 3):\n",
    "        dots.append(rnd.randint(1, len(parent_1)))\n",
    "    dots.sort()\n",
    "\n",
    "    child_1 = parent_1[:dots[0]] + parent_2[dots[0]:dots[1]] + parent_1[dots[1]:dots[2]] + parent_2[dots[2]:]\n",
    "    child_2 = parent_2[:dots[0]] + parent_1[dots[0]:dots[1]] + parent_2[dots[1]:dots[2]] + parent_1[dots[2]:]\n",
    "    #вместо нежизнеспособного ребенка возвращаем родителя\n",
    "    if fitness(child_1, items) == 0:\n",
    "        child_1 = parent_1\n",
    "    if fitness(child_2, items) == 0:\n",
    "        child_2 = parent_2\n",
    "\n",
    "    return child_1, child_2\n",
    "\n",
    "def crossover(parents, items):\n",
    "    children = []\n",
    "    parents_copy = parents.copy()\n",
    "    #пока в списке больше одного родителя, выбираем двух из них, удаляем из списка и скрещиваем\n",
    "    while len(parents_copy) > 1:\n",
    "        parent1 = rnd.choice(parents_copy)\n",
    "        parents_copy.remove(parent1)\n",
    "        parent2 = rnd.choice(parents_copy)\n",
    "        parents_copy.remove(parent2)        \n",
    "        children.extend(crossover_parents(parent1, parent2, items))\n",
    "    #добавляем к детям лишнего родителя, если такой был\n",
    "    children.extend(parents_copy)\n",
    "    return children\n",
    "        "
   ]
  },
  {
   "cell_type": "markdown",
   "metadata": {},
   "source": [
    "__Мутация (изменение 3 вещей у 5% потомков)__"
   ]
  },
  {
   "cell_type": "code",
   "execution_count": 758,
   "metadata": {},
   "outputs": [],
   "source": [
    "def mutation_individual(individual, items):\n",
    "    cnt = 0\n",
    "    while cnt < 3:\n",
    "        cnt += 1\n",
    "        ind = rnd.randint(0, len(individual) - 1)\n",
    "        #инвертируем рандомный бит\n",
    "        if individual[ind] == 1:\n",
    "            individual[ind] = 0\n",
    "        else:\n",
    "            individual[ind] = 1\n",
    "            #если особь получилась нежизнеспособной - убираем последнюю вещь и меняем еще один бит\n",
    "            if fitness(individual, items) == 0:\n",
    "                individual[ind] = 0\n",
    "                cnt -= 1\n",
    "\n",
    "\n",
    "        \n",
    "def mutation(population, items):    \n",
    "    len_mutate_pop = int(len(population) * MUTATION_PERC)\n",
    "    for i in range(len_mutate_pop):\n",
    "        mutation_individual(population[rnd.randint(0, len(population) - 1)], items)"
   ]
  },
  {
   "cell_type": "markdown",
   "metadata": {},
   "source": [
    "__Обновление популяции (все родители замещаются их детьми)__"
   ]
  },
  {
   "cell_type": "code",
   "execution_count": 753,
   "metadata": {},
   "outputs": [],
   "source": [
    "def update_population(population, parents, children):\n",
    "    new_population = []\n",
    "    #если особь не была родителем - добавляем ее в новую популяцию\n",
    "    for individual in population:\n",
    "        if individual not in parents:\n",
    "            new_population.append(individual)\n",
    "    #добавляем всех детей        \n",
    "    new_population.extend(children)\n",
    "    return new_population\n",
    "    \n",
    "    "
   ]
  },
  {
   "cell_type": "markdown",
   "metadata": {},
   "source": [
    "__Добавление лучшей особи в популяцию__"
   ]
  },
  {
   "cell_type": "code",
   "execution_count": 761,
   "metadata": {},
   "outputs": [],
   "source": [
    "def insert_best_individual(population, best_individual, items):\n",
    "    #если лучшая особь на каком то шаге теряется - добавляем ее в популяцию\n",
    "    #чтобы популяция не росла - удаляем худшую особь\n",
    "    for individual in population:\n",
    "        if best_individual not in population:\n",
    "            population.append(best_individual)\n",
    "            worst_individual = best_individual\n",
    "            worst_price = fitness(worst_individual, items)\n",
    "            for i in population:\n",
    "                curr_price = fitness(i, items)\n",
    "                if curr_price < worst_price:\n",
    "                    worst_price = curr_price\n",
    "                    worst_individual = i\n",
    "            population.remove(worst_individual)\n",
    "                    \n",
    "                "
   ]
  },
  {
   "cell_type": "markdown",
   "metadata": {},
   "source": [
    "__Генетический алгоритм__"
   ]
  },
  {
   "cell_type": "code",
   "execution_count": 772,
   "metadata": {},
   "outputs": [],
   "source": [
    "def ga(population, items, max_weight, max_volume):\n",
    "    #массив для хранения последних лучших ценностей\n",
    "    conv_arr = [0] * CONV_GEN_CNT\n",
    "    conv_cnt = 0\n",
    "    #наименее ценная вещь\n",
    "    cheapest_item = sorted(items, key=lambda dct: dct['price'])[0]['price']\n",
    "    best_individual = None\n",
    "    for g in range(CYCLE_CNT):\n",
    "        \n",
    "        parents = choose_to_crossover(population, items)\n",
    "\n",
    "        children = crossover(parents, items)\n",
    "        \n",
    "        population = update_population(population, parents, children)\n",
    "        #так как всё равно дети заменяют родителей, можно сначала заменить, а затем провести мутацию\n",
    "        #тогда не нужно отдельно мутировать детей и особей, которые не скрещивались\n",
    "        mutation(population, items)\n",
    "\n",
    "        #лучшая особь этого поколения\n",
    "        ind = get_best_individual(population, items)\n",
    "\n",
    "        #запоминаем лучшую особь среди всех поколений\n",
    "        if best_individual is None or ind[0] > best_individual[0]:\n",
    "            best_individual = ind     \n",
    "        \n",
    "        #сохраняем лучшую особь, если вдруг мы ее потеряли в процессе скрещивания или мутаций\n",
    "        insert_best_individual(population, best_individual[1], items)\n",
    "\n",
    "        conv_arr[conv_cnt] = ind[0]\n",
    "        conv_cnt += 1\n",
    "        if conv_cnt >= len(conv_arr):\n",
    "            conv_cnt = 0\n",
    "        #если за последние несколько поколений ценность менялась меньше чем на стоимость самой дешевой вещи - заканчиваем\n",
    "        if abs(min(conv_arr) - max(conv_arr)) <= cheapest_item:\n",
    "            break\n",
    "            \n",
    "    return(best_individual)"
   ]
  },
  {
   "cell_type": "markdown",
   "metadata": {},
   "source": [
    "__ __"
   ]
  },
  {
   "cell_type": "code",
   "execution_count": 770,
   "metadata": {},
   "outputs": [
    {
     "name": "stdout",
     "output_type": "stream",
     "text": [
      "(4765, [1, 1, 0, 1, 0, 1, 1, 0, 0, 0, 0, 1, 0, 1, 1, 0, 0, 1, 1, 0, 1, 0, 1, 1, 1, 0, 0, 0, 0, 0])\n"
     ]
    }
   ],
   "source": [
    "bag_data = load_data()\n",
    "max_weight = bag_data['max_weight']\n",
    "max_volume = bag_data['max_volume']\n",
    "items = bag_data['items']\n",
    "#количество особей в популяции\n",
    "fisrt_pop_cnt = 200 \n",
    "#для скольки поколений оцениваем сходимость\n",
    "CONV_GEN_CNT = 10\n",
    "#максимальное количество поколений\n",
    "CYCLE_CNT = 500\n",
    "#какая часть поколения мутирует\n",
    "MUTATION_PERC = 0.05\n",
    "\n",
    "population = create_population(items, fisrt_pop_cnt)\n",
    "decision = ga(population, items, max_weight, max_volume)\n",
    "print(decision)\n",
    "\n",
    "json_file = open(result_path,'w')\n",
    "json_file.write(\"Ценность: \" + str(int(decision[0])) + \"\\nНабор: \" + str(decision[1]))\n",
    "json_file.close()"
   ]
  },
  {
   "cell_type": "code",
   "execution_count": null,
   "metadata": {},
   "outputs": [],
   "source": []
  },
  {
   "cell_type": "code",
   "execution_count": null,
   "metadata": {},
   "outputs": [],
   "source": []
  }
 ],
 "metadata": {
  "kernelspec": {
   "display_name": "Python 3",
   "language": "python",
   "name": "python3"
  },
  "language_info": {
   "codemirror_mode": {
    "name": "ipython",
    "version": 3
   },
   "file_extension": ".py",
   "mimetype": "text/x-python",
   "name": "python",
   "nbconvert_exporter": "python",
   "pygments_lexer": "ipython3",
   "version": "3.8.5"
  }
 },
 "nbformat": 4,
 "nbformat_minor": 2
}
