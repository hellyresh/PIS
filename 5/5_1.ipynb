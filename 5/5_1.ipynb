{
 "cells": [
  {
   "cell_type": "code",
   "execution_count": 12,
   "metadata": {},
   "outputs": [
    {
     "name": "stdout",
     "output_type": "stream",
     "text": [
      "[(221.0, 0.6, 265.0), (512.0, 1.2, 357.0), (1182.0, 0.5, 169.0), (1450.0, 0.5, 331.0), (1096.0, 0.4, 166.0), (1133.0, 0.8, 299.0), (1199.0, 1.0, 353.0), (920.0, 1.1, 205.0), (1625.0, 1.0, 131.0), (1469.0, 0.6, 254.0), (676.0, 1.2, 274.0), (443.0, 1.0, 369.0), (1267.0, 1.2, 126.0), (667.0, 1.1, 336.0), (695.0, 0.4, 289.0), (125.0, 0.5, 103.0), (1234.0, 1.0, 116.0), (1391.0, 0.6, 288.0), (250.0, 0.7, 204.0), (1474.0, 1.0, 229.0), (1258.0, 0.5, 253.0), (1011.0, 0.8, 352.0), (916.0, 0.5, 355.0), (553.0, 1.0, 329.0), (1181.0, 1.0, 385.0), (1327.0, 0.8, 257.0), (1326.0, 1.0, 244.0), (1553.0, 0.7, 194.0), (1690.0, 0.6, 235.0), (780.0, 0.6, 219.0)]\n",
      "13000\n",
      "12\n"
     ]
    }
   ],
   "source": [
    "import json\n",
    "from pyeasyga import pyeasyga\n",
    "\n",
    "with open(\"26.txt\", \"r\") as f:\n",
    "    txt = f.read()\n",
    "\n",
    "data = []\n",
    "arr = txt.split(\"\\n\")\n",
    "maxW = int(arr[0].split(\" \")[0])\n",
    "maxV = int(arr[0].split(\" \")[1])\n",
    "for i in arr[1:]:\n",
    "    a = i.split(\" \")\n",
    "    data.append(tuple(map(float, i.split(\" \"))))\n",
    "print(data)\n",
    "print(maxW)\n",
    "print(maxV)"
   ]
  },
  {
   "cell_type": "code",
   "execution_count": 21,
   "metadata": {},
   "outputs": [
    {
     "name": "stdout",
     "output_type": "stream",
     "text": [
      "(4555.0, [1, 1, 1, 1, 1, 0, 1, 0, 0, 0, 1, 1, 0, 1, 1, 1, 0, 1, 0, 0, 0, 1, 1, 1, 0, 0, 0, 0, 0, 1])\n"
     ]
    }
   ],
   "source": [
    "ga = pyeasyga.GeneticAlgorithm(data)        # initialise the GA with data\n",
    "ga.population_size = 200                    # increase population size to 200\n",
    "\n",
    "# define a fitness function\n",
    "def fitness(individual, data):\n",
    "    weight, volume, price = 0, 0, 0\n",
    "    for (selected, item) in zip(individual, data):\n",
    "        if selected:\n",
    "            weight += item[0]\n",
    "            volume += item[1]\n",
    "            price += item[2]\n",
    "    if weight > maxW or volume > maxV:\n",
    "        price = 0\n",
    "    return price\n",
    "\n",
    "ga.fitness_function = fitness               # set the GA's fitness function\n",
    "ga.run()                                    # run the GA\n",
    "print(ga.best_individual())"
   ]
  },
  {
   "cell_type": "code",
   "execution_count": 22,
   "metadata": {},
   "outputs": [],
   "source": [
    "result = ga.best_individual()\n",
    "json_file = open(\"res5_1.txt\",'w')\n",
    "json_file.write(\"Ценность: \" + str(int(result[0])) + \"\\nНабор: \" + str(result[1]))\n",
    "json_file.close()"
   ]
  },
  {
   "cell_type": "code",
   "execution_count": null,
   "metadata": {},
   "outputs": [],
   "source": []
  }
 ],
 "metadata": {
  "kernelspec": {
   "display_name": "Python 3",
   "language": "python",
   "name": "python3"
  },
  "language_info": {
   "codemirror_mode": {
    "name": "ipython",
    "version": 3
   },
   "file_extension": ".py",
   "mimetype": "text/x-python",
   "name": "python",
   "nbconvert_exporter": "python",
   "pygments_lexer": "ipython3",
   "version": "3.8.5"
  }
 },
 "nbformat": 4,
 "nbformat_minor": 2
}
